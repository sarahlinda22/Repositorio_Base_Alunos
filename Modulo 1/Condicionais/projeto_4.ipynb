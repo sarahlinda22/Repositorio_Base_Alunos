{
 "cells": [
  {
   "cell_type": "markdown",
   "id": "f7e6eb37",
   "metadata": {},
   "source": [
    "# 🕵️‍♂️ MISSÃO SINARM: ANÁLISE DE INTELIGÊNCIA\n",
    "## 📋 CONTEXTO DA OPERAÇÃO\n",
    "\n",
    "Caros Aspirantes a Analistas de Dados Forenses,\n",
    "\n",
    "Vocês foram recrutados para uma operação especial da Polícia Federal! Como estagiários do setor de inteligência, sua missão é analisar dados reais de ocorrências envolvendo armas de fogo.\n",
    "\n",
    "### Um arquivo confidencial contendo dados de 2025 acaba de chegar em suas mãos: OCORRENCIAS_2025.csv\n",
    "---\n",
    "## 🎯 OBJETIVO DA MISSÃO\n",
    "\n",
    "Sua tarefa é desenvolver um algoritmo em Python que:\n",
    "\n",
    "    Identifique os tipos de armas (espécies) envolvidas nas ocorrências\n",
    "\n",
    "    Classifique as armas em categorias específicas (calibres)\n",
    "\n",
    "    Conte quantas armas de cada tipo foram apreendidas\n",
    "\n",
    "## 🔍 DADOS DA OPERAÇÃO\n",
    "\n",
    "O arquivo CSV contém as seguintes colunas relevantes:\n",
    "\n",
    "    ESPECIE_ARMA (descrição do tipo de arma)\n",
    "\n",
    "    CALIBRE_ARMA (calibre da arma)\n",
    "\n",
    "    MARCA_ARMA (fabricante da arma)"
   ]
  },
  {
   "cell_type": "code",
   "execution_count": null,
   "id": "29de7a3a",
   "metadata": {},
   "outputs": [],
   "source": []
  },
  {
   "cell_type": "code",
   "execution_count": 3,
   "id": "e3270dd8",
   "metadata": {},
   "outputs": [
    {
     "name": "stdout",
     "output_type": "stream",
     "text": [
      "['2025', '01', 'SP', 'SANTANA DE PARNAÍBA                ', 'Revolver                                          ', 'TAURUS ARMAS S.A.                                                     ', '.38                                               ', 'Apostilada no Exercito                                                    ', 'S', '1']\n",
      "['2025', '05', 'SP', 'SANTANA DE PARNAÍBA                ', 'Pistola                                           ', 'SIG SAUER (SIG SAUER GMBH)                                            ', '.40 S&W                                           ', 'Apostilada no Exercito                                                    ', 'S', '1']\n",
      "['2025', '07', 'SP', 'SANTANA DE PARNAÍBA                ', 'Espingarda                                        ', 'CBC (COMPANHIA BRASILEIRA DE CARTUCHOS)                               ', '12                                                ', 'Recuperação de Arma de Fogo                                               ', 'S', '1']\n",
      "['2025', '07', 'SP', 'SANTANA DE PARNAÍBA                ', 'Pistola                                           ', 'TAURUS ARMAS S.A.                                                     ', '.380                                              ', 'Recuperação de Arma de Fogo                                               ', 'S', '1']\n"
     ]
    }
   ],
   "source": [
    "# Seu código aqui:\n",
    "import csv\n",
    "\n",
    "exemplo = open('OCORRENCIAS_2025.csv')\n",
    "leitor = csv.reader(exemplo,delimiter=';')\n",
    "for linha in leitor:\n",
    "    if linha[3].strip()==\"SANTANA DE PARNAÍBA\":\n",
    "        print(linha)"
   ]
  }
 ],
 "metadata": {
  "kernelspec": {
   "display_name": ".venv",
   "language": "python",
   "name": "python3"
  },
  "language_info": {
   "codemirror_mode": {
    "name": "ipython",
    "version": 3
   },
   "file_extension": ".py",
   "mimetype": "text/x-python",
   "name": "python",
   "nbconvert_exporter": "python",
   "pygments_lexer": "ipython3",
   "version": "3.13.2"
  }
 },
 "nbformat": 4,
 "nbformat_minor": 5
}
