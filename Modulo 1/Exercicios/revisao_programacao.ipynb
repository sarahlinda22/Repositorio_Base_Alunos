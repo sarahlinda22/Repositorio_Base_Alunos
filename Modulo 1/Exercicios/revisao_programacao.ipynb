{
 "cells": [
  {
   "cell_type": "markdown",
   "metadata": {},
   "source": [
    "# Revisão de Programação em Python\n",
    "## Alunos da Rede Pública Municipal de Santana de Parnaíba inscritos na Fábrica de Programadores!\n",
    "\n",
    "Neste notebook, vamos revisar os conceitos aprendidos:\n",
    "- Variáveis e tipos básicos 😁\n",
    "- Listas 📋\n",
    "- Estruturas condicionais (if, elif, else) ⬅️➡️\n",
    "- Casting 🫠\n",
    "- Funções 📐\n",
    "- Escopo (global, local) 🌍🏠\n",
    "- Composição ➗\n",
    "- Loops (while, for) 🌀\n",
    "- Lógica básica de programação 🧠\n",
    "\n",
    "Responda todos os exercícios utilizando composição!"
   ]
  },
  {
   "cell_type": "markdown",
   "metadata": {},
   "source": [
    "## Exercício 1: Variáveis e Tipos Básicos"
   ]
  },
  {
   "cell_type": "code",
   "execution_count": 93,
   "metadata": {},
   "outputs": [
    {
     "name": "stdout",
     "output_type": "stream",
     "text": [
      "sarah\n"
     ]
    }
   ],
   "source": [
    "# 1. Declare variáveis para armazenar:\n",
    "#    - Seu nome (sarah)\n",
    "#    - Sua idade (15)\n",
    "#    - Sua altura em metros (1,66)\n",
    "#    - Se você gosta de programar (True)\n",
    "#    - Depois, imprima cada uma dessas variáveis\n",
    "\n",
    "# Seu código aqui\n",
    "print('sarah')\n",
    "nome = (\"sarah\")\n",
    "idade = (\"15\")\n",
    "altura =(\"1,66\")"
   ]
  },
  {
   "cell_type": "markdown",
   "metadata": {},
   "source": [
    "## Exercício 2: Operações com Listas"
   ]
  },
  {
   "cell_type": "code",
   "execution_count": 92,
   "metadata": {},
   "outputs": [
    {
     "name": "stdout",
     "output_type": "stream",
     "text": [
      "frutas\n",
      "u\n"
     ]
    }
   ],
   "source": [
    "# 2. Declare uma lista chamada 'frutas' com 5 frutas diferentes\n",
    "#    - Adicione uma nova fruta no final da lista\n",
    "#    - Remova a segunda fruta da lista\n",
    "#    - Imprima a lista resultante\n",
    "#    - Imprima apenas a terceira fruta da lista\n",
    "\n",
    "# Seu código aqui\n",
    "frutas =[\"maça\",\"banana\",\"uva\",\"pera\",\"laranja\"]\n",
    "frutas.append(\"abacaxi\")\n",
    "frutas.pop(1)\n",
    "print(\"frutas\")\n",
    "print(\"frutas\"[2])\n"
   ]
  },
  {
   "cell_type": "code",
   "execution_count": 94,
   "metadata": {},
   "outputs": [
    {
     "name": "stdout",
     "output_type": "stream",
     "text": [
      "14\n"
     ]
    }
   ],
   "source": [
    "# 3. Defina uma função chamada calcular_dobro que recebe um número inteiro como parâmetro.\n",
    "#    - Dentro da função, calcule o dobro desse número e atribua o resultado a uma variável local chamada resultado_dobro.\n",
    "#    - A função deve retornar resultado_dobro.\n",
    "#    - Fora da função, invoque a função com o número 7 e atribua o valor retornado a uma variável global chamada meu_dobro.\n",
    "#    - Imprima o valor de meu_dobro.\n",
    "\n",
    "# Seu código aqui\n",
    "def calcular_dobro(numero):\n",
    "    resultado_dobro=numero*2\n",
    "    return resultado_dobro\n",
    "meu_dobro= calcular_dobro(7)\n",
    "print(meu_dobro)\n",
    "\n"
   ]
  },
  {
   "cell_type": "markdown",
   "metadata": {},
   "source": [
    "## Exercício 4: Estruturas Condicionais (if, else)"
   ]
  },
  {
   "cell_type": "code",
   "execution_count": 97,
   "metadata": {},
   "outputs": [
    {
     "name": "stdout",
     "output_type": "stream",
     "text": [
      "o numero e positivo\n"
     ]
    }
   ],
   "source": [
    "# 4. Crie um programa que verifica se um número é positivo, negativo ou zero\n",
    "#    - Peça para o usuário digitar um número\n",
    "#    - Use if, elif e else para verificar o número\n",
    "#    - Imprima o resultado\n",
    "\n",
    "# Seu código aqui\n",
    "numero= float(input(\"digite um numero:\"))\n",
    "if numero>0:\n",
    "    print(\"o numero e positivo\")\n",
    "elif numero>1:\n",
    "    print(\"o numero e negativo\")\n",
    "else:\n",
    "    print(\"o numero e zero\")\n",
    "    "
   ]
  },
  {
   "cell_type": "markdown",
   "metadata": {},
   "source": [
    "## Exercício 5: Loop While"
   ]
  },
  {
   "cell_type": "code",
   "execution_count": 98,
   "metadata": {},
   "outputs": [
    {
     "name": "stdout",
     "output_type": "stream",
     "text": [
      "5\n",
      "fogo\n",
      "4\n",
      "fogo\n",
      "3\n",
      "fogo\n",
      "2\n",
      "fogo\n",
      "1\n",
      "fogo\n"
     ]
    }
   ],
   "source": [
    "# 5. Crie um contador regressivo de 5 até 1 usando while\n",
    "#    - A cada iteração, imprima o número atual\n",
    "#    - Quando chegar a 1, imprima \"Fogo!\"\n",
    "\n",
    "# Seu código aqui\n",
    "contador=5\n",
    "while contador>0:\n",
    "    print(contador)\n",
    "    contador-=1\n",
    "    print(\"fogo\")"
   ]
  },
  {
   "cell_type": "markdown",
   "metadata": {},
   "source": [
    "## Exercício 6: Loop For"
   ]
  },
  {
   "cell_type": "code",
   "execution_count": 99,
   "metadata": {},
   "outputs": [
    {
     "name": "stdout",
     "output_type": "stream",
     "text": [
      "a medias das notas e: 0.6\n",
      "a medias das notas e: 1.6\n",
      "a medias das notas e: 2.4\n",
      "a medias das notas e: 2.8\n",
      "a medias das notas e: 3.2\n"
     ]
    }
   ],
   "source": [
    "# 6. Crie um programa que calcula a média de 5 notas usando for\n",
    "#    - Peça para o usuário digitar 5 notas\n",
    "#    - Use um loop for para somar as notas\n",
    "#    - Calcule e imprima a média\n",
    "\n",
    "# Seu código aqui\n",
    "soma=0\n",
    "for i in range(5):\n",
    "    nota=float(input(\"digite a nota{i+1}:\"))\n",
    "    soma+=nota\n",
    "    media=soma/5\n",
    "    print(\"a medias das notas e:\",media)\n",
    "    \n"
   ]
  },
  {
   "cell_type": "markdown",
   "metadata": {},
   "source": [
    "## Exercício 7: Escopo Global e Local"
   ]
  },
  {
   "cell_type": "code",
   "execution_count": 100,
   "metadata": {},
   "outputs": [
    {
     "name": "stdout",
     "output_type": "stream",
     "text": [
      "saldo atualizado: 1251.25\n"
     ]
    }
   ],
   "source": [
    "# 7. Defina uma variável global chamada saldo_inicial com o valor 1000.50 (tipo float).\n",
    "#    - Crie uma função chamada depositar que recebe um valor_deposito (float) como parâmetro.\n",
    "#    - Dentro da função depositar, adicione o valor_deposito ao saldo_inicial. Lembre-se de usar a palavra-chave global para modificar a variável global.\n",
    "#    - Fora da função, chame depositar com o valor 250.75.\n",
    "#    - Após a chamada da função, imprima o valor atualizado de saldo_inicial.\n",
    "\n",
    "# Seu código aqui\n",
    "saldo_inicial=1000.50\n",
    "def depositar(valor_deposito):\n",
    "    global saldo_inicial\n",
    "    saldo_inicial+=valor_deposito\n",
    "\n",
    "depositar(250.75)\n",
    "print(\"saldo atualizado:\",saldo_inicial)"
   ]
  },
  {
   "cell_type": "markdown",
   "metadata": {},
   "source": [
    "## Exercício 8: Listas e Loops"
   ]
  },
  {
   "cell_type": "code",
   "execution_count": 101,
   "metadata": {},
   "outputs": [
    {
     "name": "stdout",
     "output_type": "stream",
     "text": [
      "numeros pares:\n",
      "2\n",
      "4\n",
      "6\n",
      "8\n",
      "10\n",
      "numeros impares: [1]\n",
      "numeros impares: [1, 3]\n",
      "numeros impares: [1, 3, 5]\n",
      "numeros impares: [1, 3, 5, 7]\n",
      "numeros impares: [1, 3, 5, 7, 9]\n"
     ]
    }
   ],
   "source": [
    "# 8. Crie uma lista de números de 1 a 10\n",
    "#    - Use um loop for para imprimir apenas os números pares\n",
    "#    - Depois, crie uma nova lista com os números ímpares\n",
    "#    - Imprima a lista de ímpares\n",
    "\n",
    "# Seu código aqui\n",
    "numeros=list(range(1,11))\n",
    "print(\"numeros pares:\")\n",
    "for num in numeros:\n",
    "    if num % 2==0:\n",
    "        print(num)\n",
    "impares=[]\n",
    "for num in numeros:\n",
    "    if num % 2 !=0:\n",
    "        impares.append(num)\n",
    "        print(\"numeros impares:\", impares)"
   ]
  },
  {
   "cell_type": "markdown",
   "metadata": {},
   "source": [
    "## Exercício 9: Jogo de Adivinhação"
   ]
  },
  {
   "cell_type": "code",
   "execution_count": 2,
   "metadata": {},
   "outputs": [
    {
     "name": "stdout",
     "output_type": "stream",
     "text": [
      "play no jogo de adivinhaçao\n",
      "tente adivinhar o numero entre 1 e 10,voce tem 3 tentativas\n",
      "o numero secreto e maior\n",
      "o numero secreto e maior\n",
      "o numero secreto e maior\n",
      "voce nao acertou. o numero correto era2\n"
     ]
    }
   ],
   "source": [
    "# 9. Crie um jogo de adivinhação onde:\n",
    "#    - O computador escolhe um número aleatório entre 1 e 10\n",
    "#    - O jogador tem 3 tentativas para adivinhar o número\n",
    "#    - A cada tentativa, diga se o palpite é maior ou menor que o número secreto\n",
    "#    - Se acertar, imprima \"Parabéns!\" e encerre o jogo\n",
    "#    - Se errar todas as tentativas, imprima o número correto\n",
    "\n",
    "# Seu código aqui\n",
    "import random\n",
    "numero_secreto= random.randint(1,10)\n",
    "print(\"play no jogo de adivinhaçao\")\n",
    "print(\"tente adivinhar o numero entre 1 e 10,voce tem 3 tentativas\")\n",
    "\n",
    "for i in range(1,4):\n",
    "    palpite=int(input(f\"digite seu palpite(1,10):\"))\n",
    "    if palpite==numero_secreto:\n",
    "        print(\"parabens! voce acertou!\")\n",
    "        break\n",
    "    elif palpite <numero_secreto:\n",
    "        print(\"o numero secreto e menor.\")\n",
    "    else:\n",
    "        print(\"o numero secreto e maior\")\n",
    "else:\n",
    "    print(f\"voce nao acertou. o numero correto era{numero_secreto}\")"
   ]
  },
  {
   "cell_type": "markdown",
   "metadata": {},
   "source": [
    "## Exercício 10: Desafio Final"
   ]
  },
  {
   "cell_type": "code",
   "execution_count": null,
   "metadata": {},
   "outputs": [],
   "source": [
    "# 10. Crie um programa que:\n",
    "#    - Pede para o usuário digitar o seu próprio peso em Kgs.\n",
    "#    - Depois, pede ao usuário que digite sua altura em metros.\n",
    "#    - Em terceiro, pede ao usuário que digite seu nome e idade.\n",
    "#    - Adiciona os dados digitados ao final de uma lista (utilizando a função .append()).\n",
    "#    - Calcule o índice de massa corpórea (IMC) do indivíduo de acordo com a fórmula do IMC pesquisada.    \n",
    "#    - Após calcular, registre: Classificação do IMC de acordo com a OMS:\n",
    "#    - < 16         Magreza grave (grau III)\n",
    "#    - 16 a 16,9    Magreza moderada (grau II)\n",
    "#    - 17 a 18,4    Magreza leve (grau I)\n",
    "#    - 18,5 a 24,9  Eutrofia (estado nutricional adequado)\n",
    "#    - 25 a 29,9    Pré-obesidade\n",
    "#    - 30 a 34,9    Obesidade moderada (grau I)\n",
    "#    - 35 a 39,9    Obesidade severa (grau II)\n",
    "#    - >= 40        Obesidade muito severa (grau III)\n",
    "#    - Finalmente, em ordem alfabética (utilizando a função .sort()), exiba todos os itens da lista ao lado de seus dados, seu IMC e sua respectiva classificação.\n",
    "\n",
    "# Seu código aqui\n",
    "peso= float(input(\"digite seu peso em kgs:\"))\n",
    "altura= float(input(\"digite sua altura em metros:\"))\n",
    "nome= input(\"digite o seu nome:\")\n",
    "idade= int(input(\"digite sua idade:\"))\n",
    "dados_individuo=[nome,idade,peso,altura]\n",
    "listas_de_pessoas=[]\n",
    "listas_de_pessoas.append(dados_individuo)\n",
    "\n",
    "imc = peso / (altura * 2)\n",
    "\n",
    "classificaçao_imc =\"\"\n",
    "if imc<16<= classificaçao_imc = \"magreza grabe(grauIII)\"\n",
    "elif imc <16<=16.9:\n",
    "    classificaçao_imc=\"mareza moderada(grauII)\"\n",
    "elif imc<17<=18.4:\n",
    "    classificaçao_imc=\"magreza leve(estado nutricional adequado)\"\n",
    "elif imc<18.5<=24.9:\n",
    "    classificaçao_imc = \"pre-obesidde\"\n",
    "elif imc < 30 <=34.9:\n",
    "    classificaçao_imc=\"obesidade moderada(grauI)\"\n",
    "elif imc <35<=39.9:\n",
    "    classificaçao_imc=\"obesudade severa(grau II)\"\n",
    "\n",
    "\n"
   ]
  },
  {
   "cell_type": "markdown",
   "metadata": {},
   "source": [
    "## Parabéns por completar os exercícios! 🥳\n",
    "### Continue praticando e explorando os conceitos de programação."
   ]
  }
 ],
 "metadata": {
  "kernelspec": {
   "display_name": ".venv",
   "language": "python",
   "name": "python3"
  },
  "language_info": {
   "codemirror_mode": {
    "name": "ipython",
    "version": 3
   },
   "file_extension": ".py",
   "mimetype": "text/x-python",
   "name": "python",
   "nbconvert_exporter": "python",
   "pygments_lexer": "ipython3",
   "version": "3.13.2"
  }
 },
 "nbformat": 4,
 "nbformat_minor": 4
}
